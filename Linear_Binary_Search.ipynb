{
  "nbformat": 4,
  "nbformat_minor": 0,
  "metadata": {
    "colab": {
      "provenance": [],
      "authorship_tag": "ABX9TyNv5Yz8Sth5/MipomOJ2yzn",
      "include_colab_link": true
    },
    "kernelspec": {
      "name": "python3",
      "display_name": "Python 3"
    },
    "language_info": {
      "name": "python"
    }
  },
  "cells": [
    {
      "cell_type": "markdown",
      "metadata": {
        "id": "view-in-github",
        "colab_type": "text"
      },
      "source": [
        "<a href=\"https://colab.research.google.com/github/FranklineMisango/FCC_Data_Structures_-_Algorithms/blob/main/Linear_Binary_Search.ipynb\" target=\"_parent\"><img src=\"https://colab.research.google.com/assets/colab-badge.svg\" alt=\"Open In Colab\"/></a>"
      ]
    },
    {
      "cell_type": "markdown",
      "source": [
        "\n",
        "Problem A : Linear and Binary Search\n",
        "\n",
        "Alice has some cards with numbers written on them. She arranges the cards in decreasing order, and lays them out face down in a sequence on a table. She challenges Bob to pick out the card containing a given number by turning over as few cards as possible. Write a function to help Bob locate the card.\n"
      ],
      "metadata": {
        "id": "SlmC8x0B0kiR"
      }
    },
    {
      "cell_type": "code",
      "source": [
        "#Frame the question -> We want to get a  from a specific card from a list\n",
        "\n",
        "def locate_card(cards , query):\n",
        "  pass"
      ],
      "metadata": {
        "id": "t6IQsb-P0nkH"
      },
      "execution_count": 1,
      "outputs": []
    },
    {
      "cell_type": "code",
      "source": [
        "#Testing the Input and Outputs\n",
        "\n",
        "cards = [13, 11, 10 , 7 , 4, 3 , 1, 0]\n",
        "query = 7\n",
        "output = 3\n",
        "\n",
        "result = locate_card(cards,query)\n",
        "print(result)"
      ],
      "metadata": {
        "colab": {
          "base_uri": "https://localhost:8080/"
        },
        "id": "6osvYabP05Yz",
        "outputId": "ee4b449f-88f6-4b72-8886-42ade4fef0b7"
      },
      "execution_count": 2,
      "outputs": [
        {
          "output_type": "stream",
          "name": "stdout",
          "text": [
            "None\n"
          ]
        }
      ]
    },
    {
      "cell_type": "code",
      "source": [
        "#Testing multiple I /o at the same time: Use a dictionary to match what we expect from what we key in \n",
        "#This is if it occurs at the 3rd position\n",
        "\n",
        "test = {\n",
        "    \"input\" : {\n",
        "        \"cards\" : [13, 11, 10 , 7 , 4, 3 , 1, 0], \n",
        "        \"query\": 7\n",
        "    },\n",
        "    \"output\" : 3\n",
        "}\n",
        "\n",
        "locate_card(**test['input']) == test['output']"
      ],
      "metadata": {
        "colab": {
          "base_uri": "https://localhost:8080/"
        },
        "id": "3JZWQSwT1qKS",
        "outputId": "ccbbd2f2-31ae-45bf-e857-e9c13e873821"
      },
      "execution_count": 8,
      "outputs": [
        {
          "output_type": "execute_result",
          "data": {
            "text/plain": [
              "False"
            ]
          },
          "metadata": {},
          "execution_count": 8
        }
      ]
    },
    {
      "cell_type": "code",
      "source": [
        "#Test cases incases the query occurs in like the 1st or anyplace in the list\n",
        "\n",
        "#1.Test occurs in the Middle\n",
        "\n",
        "tests = []\n",
        "\n",
        "tests.append({\n",
        "     \"input\" : {\n",
        "        \"cards\" : [13, 11, 10 , 7 , 4, 3 , 1, 0], \n",
        "        \"query\": 1\n",
        "    },\n",
        "    \"output\" : 6\n",
        "})\n",
        "\n",
        "#2. What if the query occurs in the First element\n",
        "\n",
        "\n",
        "tests.append({\n",
        "     \"input\" : {\n",
        "        \"cards\" : [3, -1 , -9, -127], \n",
        "        \"query\": -127\n",
        "    },\n",
        "    \"output\" : 3\n",
        "})\n",
        "\n",
        "#What if the list contains just one element , the querry\n",
        "tests.append({\n",
        "     \"input\" : {\n",
        "        \"cards\" : [6], \n",
        "        \"query\": 6\n",
        "    },\n",
        "    \"output\" : 0\n",
        "})\n",
        "\n",
        "#What if the cards list doesnt contain the querry\n",
        "#we will assume it returns -1\n",
        "tests.append({\n",
        "     \"input\" : {\n",
        "        \"cards\" : [9 , 7, 6, 4 , 3], \n",
        "        \"query\": 5\n",
        "    },\n",
        "    \"output\" : -1\n",
        "})\n",
        "\n",
        "#Assumption that the card list is empty\n",
        "tests.append({\n",
        "     \"input\" : {\n",
        "        \"cards\" : [], \n",
        "        \"query\": 6\n",
        "    },\n",
        "    \"output\" : -1\n",
        "})\n",
        "\n",
        "\n",
        "#Last case --> Incase of repetition:\n",
        "tests.append({\n",
        "     \"input\" : {\n",
        "        \"cards\" : [8, 8, 6, 6, 6, 6, 6, 6, 3, 2, 3, 0, 0 ,0], \n",
        "        \"query\": 6\n",
        "    },\n",
        "    \"output\" : -1\n",
        "})\n"
      ],
      "metadata": {
        "id": "XSjEnKjQ1zTb"
      },
      "execution_count": 9,
      "outputs": []
    },
    {
      "cell_type": "code",
      "source": [
        "tests"
      ],
      "metadata": {
        "colab": {
          "base_uri": "https://localhost:8080/"
        },
        "id": "UOUma2bp6c3V",
        "outputId": "e37da57f-e8d6-4743-9771-137a43c37b62"
      },
      "execution_count": 10,
      "outputs": [
        {
          "output_type": "execute_result",
          "data": {
            "text/plain": [
              "[{'input': {'cards': [13, 11, 10, 7, 4, 3, 1, 0], 'query': 1}, 'output': 6},\n",
              " {'input': {'cards': [3, -1, -9, -127], 'query': -127}, 'output': 3},\n",
              " {'input': {'cards': [6], 'query': 6}, 'output': 0},\n",
              " {'input': {'cards': [9, 7, 6, 4, 3], 'query': 5}, 'output': -1},\n",
              " {'input': {'cards': [], 'query': 6}, 'output': -1},\n",
              " {'input': {'cards': [8, 8, 6, 6, 6, 6, 6, 6, 3, 2, 3, 0, 0, 0], 'query': 6},\n",
              "  'output': -1}]"
            ]
          },
          "metadata": {},
          "execution_count": 10
        }
      ]
    },
    {
      "cell_type": "code",
      "source": [
        "#A possible solution\n",
        "#1.The Linear Search Algorithm (Bruteforce):\n",
        "#2.Create a variable position with the value 0.\n",
        "#3.Check whether the number at index position in card equals query.\n",
        "#4.If it does, position is the answer and can be returned from the function\n",
        "#5.If not, increment the value of position by 1, and repeat steps 2 to 5 till you reach the last position.\n",
        "#6.If the number was not found, return -1.\n",
        "\n",
        "def locate_card(cards, query):\n",
        "  #Create a variable position with value 0\n",
        "  position = 0\n",
        "\n",
        "  #Loop for repetition\n",
        "\n",
        "  while True:\n",
        "    #Check if the element at the current position matches the querry\n",
        "    if cards[position] == query:\n",
        "\n",
        "      #Answer Found\n",
        "      return position\n",
        "\n",
        "    #If Not, Increment the position by 1\n",
        "    position += 1\n",
        "\n",
        "    #Check if  have reached the end of the array\n",
        "\n",
        "    if position == len(cards):\n",
        "      #Number not found, return -1 or \"Number Not Found\"\n",
        "      return -1"
      ],
      "metadata": {
        "id": "EI_10puF6vUN"
      },
      "execution_count": 11,
      "outputs": []
    },
    {
      "cell_type": "code",
      "source": [
        "#Testing the Function with our test cases in the Previous slides \n",
        "test\n",
        "result = locate_card(test['input']['cards'], test['input']['query'])\n",
        "print(result)\n",
        "result == output #They match"
      ],
      "metadata": {
        "colab": {
          "base_uri": "https://localhost:8080/"
        },
        "id": "j0kZRA7K9DzO",
        "outputId": "27c2e32c-d301-4107-c5e5-380de16124dc"
      },
      "execution_count": 22,
      "outputs": [
        {
          "output_type": "stream",
          "name": "stdout",
          "text": [
            "3\n"
          ]
        },
        {
          "output_type": "execute_result",
          "data": {
            "text/plain": [
              "True"
            ]
          },
          "metadata": {},
          "execution_count": 22
        }
      ]
    },
    {
      "cell_type": "code",
      "source": [
        "#Incase I want to test my own user inputs\n",
        "\n",
        "cards = list(map(int, input(\"The house , please place the card deck: \").split(\" \")))\n",
        "query = int(input(\"What Card do you want to retrieve User X?: \"))\n",
        "\n",
        "locate_card(cards , query)"
      ],
      "metadata": {
        "colab": {
          "base_uri": "https://localhost:8080/"
        },
        "id": "Zzfuokwi9Rf8",
        "outputId": "c686fa69-cf91-41f3-e462-496d743f3f4e"
      },
      "execution_count": 26,
      "outputs": [
        {
          "name": "stdout",
          "output_type": "stream",
          "text": [
            "The house , please place the card deck: 1 2 4 4 5 5 6\n",
            "What Card do you want to retrieve User X?: 4\n"
          ]
        },
        {
          "output_type": "execute_result",
          "data": {
            "text/plain": [
              "2"
            ]
          },
          "metadata": {},
          "execution_count": 26
        }
      ]
    },
    {
      "cell_type": "code",
      "source": [
        "#Running the tests cases from Python Jovian\n",
        "\n",
        "!pip install jovian --upgrade --quiet"
      ],
      "metadata": {
        "id": "-3MvgxlcAlRu"
      },
      "execution_count": 35,
      "outputs": []
    },
    {
      "cell_type": "code",
      "source": [
        "from jovian.pythondsa import evaluate_test_cases"
      ],
      "metadata": {
        "id": "3nFDsU_MBcvE"
      },
      "execution_count": 43,
      "outputs": []
    },
    {
      "cell_type": "code",
      "source": [
        "#Test case evalutions for our product to identify any loops \n",
        "evaluate_test_cases(locate_card , tests)"
      ],
      "metadata": {
        "id": "8ZMZlWpxBj1R"
      },
      "execution_count": null,
      "outputs": []
    },
    {
      "cell_type": "code",
      "source": [
        "#Starting to debug our test case 4 Fails i.e \n",
        "#This print out lets us know what is wrong with test case 4. i.e why it is falling out of range\n",
        "\n",
        "def locate_card(cards, query):\n",
        "    position = 0\n",
        "    \n",
        "    print('cards:', cards)\n",
        "    print('query:', query)\n",
        "    \n",
        "    while True:\n",
        "        print('position:', position)\n",
        "        \n",
        "        if cards[position] == query:\n",
        "            return position\n",
        "        \n",
        "        position += 1\n",
        "        if position == len(cards):\n",
        "            return -1"
      ],
      "metadata": {
        "id": "x2EmX8XaDJZi"
      },
      "execution_count": 56,
      "outputs": []
    },
    {
      "cell_type": "code",
      "source": [
        "#we can see that the list below is empty and we are trying to access it \n",
        "\n",
        "cards4 = tests[4]['input']['cards']\n",
        "query4 = tests[4]['input']['query']\n",
        "\n",
        "locate_card(cards4, query4)"
      ],
      "metadata": {
        "colab": {
          "base_uri": "https://localhost:8080/"
        },
        "id": "1kVMSrUrFDAM",
        "outputId": "b3014db9-6075-4082-9c49-f9665e6df6c1"
      },
      "execution_count": 66,
      "outputs": [
        {
          "output_type": "execute_result",
          "data": {
            "text/plain": [
              "-1"
            ]
          },
          "metadata": {},
          "execution_count": 66
        }
      ]
    },
    {
      "cell_type": "code",
      "source": [
        "#To start figuring out, the position has to be less than the position of cards \n",
        "#If empty, return -1\n",
        "\n",
        "def locate_card(cards, query):\n",
        "    position = 0\n",
        "    while position < len(cards):\n",
        "        if cards[position] == query:\n",
        "            return position\n",
        "        position += 1\n",
        "    return -1\n",
        "\n",
        "locate_card(cards4, query4)"
      ],
      "metadata": {
        "colab": {
          "base_uri": "https://localhost:8080/"
        },
        "id": "CNCLFMhrHrot",
        "outputId": "1c557acf-367c-492f-8d02-099b4e3ee7b1"
      },
      "execution_count": 62,
      "outputs": [
        {
          "output_type": "execute_result",
          "data": {
            "text/plain": [
              "-1"
            ]
          },
          "metadata": {},
          "execution_count": 62
        }
      ]
    },
    {
      "cell_type": "code",
      "source": [
        "#Let us now reverify the code to match the test cases\n",
        "evaluate_test_cases(locate_card , tests)"
      ],
      "metadata": {
        "id": "12Cmb3NgIEUF"
      },
      "execution_count": null,
      "outputs": []
    },
    {
      "cell_type": "code",
      "source": [
        "#Our solution is not very effective as we keep turning the cards one by one\n",
        "#we are required to turn as few cards as possble"
      ],
      "metadata": {
        "id": "gxVXyS_NJDaQ"
      },
      "execution_count": 65,
      "outputs": []
    }
  ]
}