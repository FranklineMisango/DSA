{
  "nbformat": 4,
  "nbformat_minor": 0,
  "metadata": {
    "colab": {
      "provenance": [],
      "authorship_tag": "ABX9TyP5JIwCKIygKLz45cF+RDTd",
      "include_colab_link": true
    },
    "kernelspec": {
      "name": "python3",
      "display_name": "Python 3"
    },
    "language_info": {
      "name": "python"
    }
  },
  "cells": [
    {
      "cell_type": "markdown",
      "metadata": {
        "id": "view-in-github",
        "colab_type": "text"
      },
      "source": [
        "<a href=\"https://colab.research.google.com/github/FranklineMisango/FCC_Data_Structures_-_Algorithms/blob/main/Linear_Binary_Search.ipynb\" target=\"_parent\"><img src=\"https://colab.research.google.com/assets/colab-badge.svg\" alt=\"Open In Colab\"/></a>"
      ]
    },
    {
      "cell_type": "code",
      "source": [
        "#BLUEPRINT FOR THE BINARY TEST QUESTIONS\n",
        "#ITS 55,000X faster than bruteforce search/linear search\n",
        "'''\n",
        "def locate_target(nums,target):\n",
        "    lo,hi = 0,len(nums) - 1\n",
        "    while lo<=hi:\n",
        "        mid = (lo+hi) //2\n",
        "        if nums[mid] == target:\n",
        "            return mid\n",
        "        else:\n",
        "            if target < nums[mid]:\n",
        "                hi = mid - 1\n",
        "            else:\n",
        "                lo = mid + 1        \n",
        "    return -1\n",
        "\n",
        "\n",
        "  def locate_card(cards, query):\n",
        "    \n",
        "    def condition(mid):\n",
        "        if cards[mid] == query:\n",
        "            if mid > 0 and cards[mid-1] == query:\n",
        "                return 'left'\n",
        "            else:\n",
        "                return 'found'\n",
        "        elif cards[mid] < query:\n",
        "            return 'left'\n",
        "        else:\n",
        "            return 'right'\n",
        "    \n",
        "    return binary_search(0, len(cards) - 1, condition)\n",
        "    \n",
        "    \n",
        "def first_position(nums, target):\n",
        "    def condition(mid):\n",
        "        if nums[mid] == target:\n",
        "            if mid > 0 and nums[mid-1] == target:\n",
        "                return 'left'\n",
        "            return 'found'\n",
        "        elif nums[mid] < target:\n",
        "            return 'right'\n",
        "        else:\n",
        "            return 'left'\n",
        "    return binary_search(0, len(nums)-1, condition)\n",
        "\n",
        "def last_position(nums, target):\n",
        "    def condition(mid):\n",
        "        if nums[mid] == target:\n",
        "            if mid < len(nums)-1 and nums[mid+1] == target:\n",
        "                return 'right'\n",
        "            return 'found'\n",
        "        elif nums[mid] < target:\n",
        "            return 'right'\n",
        "        else:\n",
        "            return 'left'\n",
        "    return binary_search(0, len(nums)-1, condition)\n",
        "\n",
        "def first_and_last_position(nums, target):\n",
        "    return first_position(nums, target), last_position(nums, target)\n",
        "'''        \n",
        "\n",
        "#The steps\n",
        "'''\n",
        "Come up with a condition to determine whether the answer lies before, after or at a given position\n",
        "Retrieve the midpoint and the middle element of the list.\n",
        "If it is the answer, return the middle position as the answer.\n",
        "If answer lies before it, repeat the search with the first half of the list\n",
        "If the answer lies after it, repeat the search with the second half of the list.\n",
        "'''"
      ],
      "metadata": {
        "id": "MiLg8jQGR_pl"
      },
      "execution_count": null,
      "outputs": []
    },
    {
      "cell_type": "markdown",
      "source": [
        "\n",
        "Problem A : Linear and Binary Search\n",
        "\n",
        "Alice has some cards with numbers written on them. She arranges the cards in decreasing order, and lays them out face down in a sequence on a table. She challenges Bob to pick out the card containing a given number by turning over as few cards as possible. Write a function to help Bob locate the card.\n"
      ],
      "metadata": {
        "id": "SlmC8x0B0kiR"
      }
    },
    {
      "cell_type": "code",
      "source": [
        "#Frame the question -> We want to get a  from a specific card from a list\n",
        "\n",
        "def locate_card(cards , query):\n",
        "  pass"
      ],
      "metadata": {
        "id": "t6IQsb-P0nkH"
      },
      "execution_count": null,
      "outputs": []
    },
    {
      "cell_type": "code",
      "source": [
        "#Testing the Input and Outputs\n",
        "\n",
        "cards = [13, 11, 10 , 7 , 4, 3 , 1, 0]\n",
        "query = 7\n",
        "output = 3\n",
        "\n",
        "result = locate_card(cards,query)\n",
        "print(result)"
      ],
      "metadata": {
        "colab": {
          "base_uri": "https://localhost:8080/"
        },
        "id": "6osvYabP05Yz",
        "outputId": "dfc97925-7411-4323-b514-3eab19cee833"
      },
      "execution_count": null,
      "outputs": [
        {
          "output_type": "stream",
          "name": "stdout",
          "text": [
            "None\n"
          ]
        }
      ]
    },
    {
      "cell_type": "code",
      "source": [
        "#Testing multiple I /o at the same time: Use a dictionary to match what we expect from what we key in \n",
        "#This is if it occurs at the 3rd position\n",
        "\n",
        "test = {\n",
        "    \"input\" : {\n",
        "        \"cards\" : [13, 11, 10 , 7 , 4, 3 , 1, 0], \n",
        "        \"query\": 7\n",
        "    },\n",
        "    \"output\" : 3\n",
        "}\n",
        "\n",
        "locate_card(**test['input']) == test['output']"
      ],
      "metadata": {
        "colab": {
          "base_uri": "https://localhost:8080/"
        },
        "id": "3JZWQSwT1qKS",
        "outputId": "cf2cd16e-6691-4d0c-f5da-87345a4ea475"
      },
      "execution_count": null,
      "outputs": [
        {
          "output_type": "execute_result",
          "data": {
            "text/plain": [
              "False"
            ]
          },
          "metadata": {},
          "execution_count": 5
        }
      ]
    },
    {
      "cell_type": "code",
      "source": [
        "#Test cases incases the query occurs in like the 1st or anyplace in the list\n",
        "\n",
        "#1.Test occurs in the Middle\n",
        "\n",
        "tests = []\n",
        "\n",
        "tests.append({\n",
        "     \"input\" : {\n",
        "        \"cards\" : [13, 11, 10 , 7 , 4, 3 , 1, 0], \n",
        "        \"query\": 1\n",
        "    },\n",
        "    \"output\" : 6\n",
        "})\n",
        "\n",
        "#2. What if the query occurs in the First element\n",
        "\n",
        "\n",
        "tests.append({\n",
        "     \"input\" : {\n",
        "        \"cards\" : [3, -1 , -9, -127], \n",
        "        \"query\": -127\n",
        "    },\n",
        "    \"output\" : 3\n",
        "})\n",
        "\n",
        "#What if the list contains just one element , the querry\n",
        "tests.append({\n",
        "     \"input\" : {\n",
        "        \"cards\" : [6], \n",
        "        \"query\": 6\n",
        "    },\n",
        "    \"output\" : 0\n",
        "})\n",
        "\n",
        "#What if the cards list doesnt contain the querry\n",
        "#we will assume it returns -1\n",
        "tests.append({\n",
        "     \"input\" : {\n",
        "        \"cards\" : [9 , 7, 6, 4 , 3], \n",
        "        \"query\": 5\n",
        "    },\n",
        "    \"output\" : -1\n",
        "})\n",
        "\n",
        "#Assumption that the card list is empty\n",
        "tests.append({\n",
        "     \"input\" : {\n",
        "        \"cards\" : [], \n",
        "        \"query\": 6\n",
        "    },\n",
        "    \"output\" : -1\n",
        "})\n",
        "\n",
        "\n",
        "#Last case --> Incase of repetition:\n",
        "tests.append({\n",
        "     \"input\" : {\n",
        "        \"cards\" : [8, 8, 6, 6, 6, 6, 6, 6, 3, 2, 3, 0, 0 ,0], \n",
        "        \"query\": 6\n",
        "    },\n",
        "    \"output\" : -1\n",
        "})\n"
      ],
      "metadata": {
        "id": "XSjEnKjQ1zTb"
      },
      "execution_count": null,
      "outputs": []
    },
    {
      "cell_type": "code",
      "source": [
        "tests"
      ],
      "metadata": {
        "colab": {
          "base_uri": "https://localhost:8080/"
        },
        "id": "UOUma2bp6c3V",
        "outputId": "ae10edf8-2b68-4e05-9dc2-985354d52f84"
      },
      "execution_count": null,
      "outputs": [
        {
          "output_type": "execute_result",
          "data": {
            "text/plain": [
              "[{'input': {'cards': [13, 11, 10, 7, 4, 3, 1, 0], 'query': 1}, 'output': 6},\n",
              " {'input': {'cards': [3, -1, -9, -127], 'query': -127}, 'output': 3},\n",
              " {'input': {'cards': [6], 'query': 6}, 'output': 0},\n",
              " {'input': {'cards': [9, 7, 6, 4, 3], 'query': 5}, 'output': -1},\n",
              " {'input': {'cards': [], 'query': 6}, 'output': -1},\n",
              " {'input': {'cards': [8, 8, 6, 6, 6, 6, 6, 6, 3, 2, 3, 0, 0, 0], 'query': 6},\n",
              "  'output': -1}]"
            ]
          },
          "metadata": {},
          "execution_count": 7
        }
      ]
    },
    {
      "cell_type": "code",
      "source": [
        "#A possible solution\n",
        "#1.The Linear Search Algorithm (Bruteforce):\n",
        "#2.Create a variable position with the value 0.\n",
        "#3.Check whether the number at index position in card equals query.\n",
        "#4.If it does, position is the answer and can be returned from the function\n",
        "#5.If not, increment the value of position by 1, and repeat steps 2 to 5 till you reach the last position.\n",
        "#6.If the number was not found, return -1.\n",
        "\n",
        "def locate_card(cards, query):\n",
        "  #Create a variable position with value 0\n",
        "  position = 0\n",
        "\n",
        "  #Loop for repetition\n",
        "\n",
        "  while True:\n",
        "    #Check if the element at the current position matches the querry\n",
        "    if cards[position] == query:\n",
        "\n",
        "      #Answer Found\n",
        "      return position\n",
        "\n",
        "    #If Not, Increment the position by 1\n",
        "    position += 1\n",
        "\n",
        "    #Check if  have reached the end of the array\n",
        "\n",
        "    if position == len(cards):\n",
        "      #Number not found, return -1 or \"Number Not Found\"\n",
        "      return -1"
      ],
      "metadata": {
        "id": "EI_10puF6vUN"
      },
      "execution_count": null,
      "outputs": []
    },
    {
      "cell_type": "code",
      "source": [
        "#Testing the Function with our test cases in the Previous slides \n",
        "test\n",
        "result = locate_card(test['input']['cards'], test['input']['query'])\n",
        "print(result)\n",
        "result == output #They match"
      ],
      "metadata": {
        "colab": {
          "base_uri": "https://localhost:8080/"
        },
        "id": "j0kZRA7K9DzO",
        "outputId": "42d08dcd-d3f8-498f-9347-087f7c4d9d6d"
      },
      "execution_count": null,
      "outputs": [
        {
          "output_type": "stream",
          "name": "stdout",
          "text": [
            "3\n"
          ]
        },
        {
          "output_type": "execute_result",
          "data": {
            "text/plain": [
              "True"
            ]
          },
          "metadata": {},
          "execution_count": 9
        }
      ]
    },
    {
      "cell_type": "code",
      "source": [
        "#Incase I want to test my own user inputs\n",
        "\n",
        "cards = list(map(int, input(\"The house , please place the card deck: \").split(\" \")))\n",
        "query = int(input(\"What Card do you want to retrieve User X?: \"))\n",
        "\n",
        "locate_card(cards , query)"
      ],
      "metadata": {
        "colab": {
          "base_uri": "https://localhost:8080/"
        },
        "id": "Zzfuokwi9Rf8",
        "outputId": "0513b9b7-9e87-4b5a-899c-50cff5baddcf"
      },
      "execution_count": null,
      "outputs": [
        {
          "name": "stdout",
          "output_type": "stream",
          "text": [
            "The house , please place the card deck: 1 2 3 4 5 6 7 8 9\n",
            "What Card do you want to retrieve User X?: 4\n"
          ]
        },
        {
          "output_type": "execute_result",
          "data": {
            "text/plain": [
              "3"
            ]
          },
          "metadata": {},
          "execution_count": 15
        }
      ]
    },
    {
      "cell_type": "code",
      "source": [
        "#Running the tests cases from Python Jovian\n",
        "\n",
        "!pip install jovian --upgrade --quiet"
      ],
      "metadata": {
        "id": "-3MvgxlcAlRu",
        "colab": {
          "base_uri": "https://localhost:8080/"
        },
        "outputId": "ccf0b334-8308-470e-c35d-714ed45681d6"
      },
      "execution_count": null,
      "outputs": [
        {
          "output_type": "stream",
          "name": "stdout",
          "text": [
            "\u001b[?25l\r\u001b[K     |████▊                           | 10 kB 22.9 MB/s eta 0:00:01\r\u001b[K     |█████████▌                      | 20 kB 7.1 MB/s eta 0:00:01\r\u001b[K     |██████████████▎                 | 30 kB 10.1 MB/s eta 0:00:01\r\u001b[K     |███████████████████             | 40 kB 4.6 MB/s eta 0:00:01\r\u001b[K     |███████████████████████▉        | 51 kB 4.4 MB/s eta 0:00:01\r\u001b[K     |████████████████████████████▋   | 61 kB 5.1 MB/s eta 0:00:01\r\u001b[K     |████████████████████████████████| 68 kB 3.2 MB/s \n",
            "\u001b[?25h  Building wheel for uuid (setup.py) ... \u001b[?25l\u001b[?25hdone\n"
          ]
        }
      ]
    },
    {
      "cell_type": "code",
      "source": [
        "from jovian.pythondsa import evaluate_test_case\n",
        "from jovian.pythondsa import evaluate_test_cases"
      ],
      "metadata": {
        "id": "3nFDsU_MBcvE"
      },
      "execution_count": null,
      "outputs": []
    },
    {
      "cell_type": "code",
      "source": [
        "#Test case evalutions for our product to identify any loops \n",
        "evaluate_test_cases(locate_card , tests)"
      ],
      "metadata": {
        "id": "8ZMZlWpxBj1R",
        "colab": {
          "base_uri": "https://localhost:8080/"
        },
        "outputId": "a788c0fe-24db-459c-eee2-e0603355b42c"
      },
      "execution_count": null,
      "outputs": [
        {
          "output_type": "stream",
          "name": "stdout",
          "text": [
            "\n",
            "\u001b[1mTEST CASE #0\u001b[0m\n",
            "lo: 0 hi: 7 mid: 3 midnumber: 7\n",
            "lo: 4 hi: 7 mid: 5 midnumber: 3\n",
            "lo: 6 hi: 7 mid: 6 midnumber: 1\n",
            "\n",
            "Input:\n",
            "{'cards': [13, 11, 10, 7, 4, 3, 1, 0], 'query': 1}\n",
            "\n",
            "Expected Output:\n",
            "6\n",
            "\n",
            "\n",
            "Actual Output:\n",
            "6\n",
            "\n",
            "Execution Time:\n",
            "0.247 ms\n",
            "\n",
            "Test Result:\n",
            "\u001b[92mPASSED\u001b[0m\n",
            "\n",
            "\n",
            "\u001b[1mTEST CASE #1\u001b[0m\n",
            "lo: 0 hi: 3 mid: 1 midnumber: -1\n",
            "lo: 2 hi: 3 mid: 2 midnumber: -9\n",
            "lo: 3 hi: 3 mid: 3 midnumber: -127\n",
            "\n",
            "Input:\n",
            "{'cards': [3, -1, -9, -127], 'query': -127}\n",
            "\n",
            "Expected Output:\n",
            "3\n",
            "\n",
            "\n",
            "Actual Output:\n",
            "3\n",
            "\n",
            "Execution Time:\n",
            "0.407 ms\n",
            "\n",
            "Test Result:\n",
            "\u001b[92mPASSED\u001b[0m\n",
            "\n",
            "\n",
            "\u001b[1mTEST CASE #2\u001b[0m\n",
            "lo: 0 hi: 0 mid: 0 midnumber: 6\n",
            "\n",
            "Input:\n",
            "{'cards': [6], 'query': 6}\n",
            "\n",
            "Expected Output:\n",
            "0\n",
            "\n",
            "\n",
            "Actual Output:\n",
            "0\n",
            "\n",
            "Execution Time:\n",
            "0.127 ms\n",
            "\n",
            "Test Result:\n",
            "\u001b[92mPASSED\u001b[0m\n",
            "\n",
            "\n",
            "\u001b[1mTEST CASE #3\u001b[0m\n",
            "lo: 0 hi: 4 mid: 2 midnumber: 6\n",
            "lo: 3 hi: 4 mid: 3 midnumber: 4\n",
            "\n",
            "Input:\n",
            "{'cards': [9, 7, 6, 4, 3], 'query': 5}\n",
            "\n",
            "Expected Output:\n",
            "-1\n",
            "\n",
            "\n",
            "Actual Output:\n",
            "-1\n",
            "\n",
            "Execution Time:\n",
            "0.246 ms\n",
            "\n",
            "Test Result:\n",
            "\u001b[92mPASSED\u001b[0m\n",
            "\n",
            "\n",
            "\u001b[1mTEST CASE #4\u001b[0m\n",
            "\n",
            "Input:\n",
            "{'cards': [], 'query': 6}\n",
            "\n",
            "Expected Output:\n",
            "-1\n",
            "\n",
            "\n",
            "Actual Output:\n",
            "-1\n",
            "\n",
            "Execution Time:\n",
            "0.003 ms\n",
            "\n",
            "Test Result:\n",
            "\u001b[92mPASSED\u001b[0m\n",
            "\n",
            "\n",
            "\u001b[1mTEST CASE #5\u001b[0m\n",
            "lo: 0 hi: 13 mid: 6 midnumber: 6\n",
            "\n",
            "Input:\n",
            "{'cards': [8, 8, 6, 6, 6, 6, 6, 6, 3, 2, 3, 0, 0, 0], 'query': 6}\n",
            "\n",
            "Expected Output:\n",
            "-1\n",
            "\n",
            "\n",
            "Actual Output:\n",
            "6\n",
            "\n",
            "Execution Time:\n",
            "0.121 ms\n",
            "\n",
            "Test Result:\n",
            "\u001b[91mFAILED\u001b[0m\n",
            "\n",
            "\n",
            "\u001b[1mSUMMARY\u001b[0m\n",
            "\n",
            "TOTAL: 6, \u001b[92mPASSED\u001b[0m: 5, \u001b[91mFAILED\u001b[0m: 1\n"
          ]
        },
        {
          "output_type": "execute_result",
          "data": {
            "text/plain": [
              "[(6, True, 0.247),\n",
              " (3, True, 0.407),\n",
              " (0, True, 0.127),\n",
              " (-1, True, 0.246),\n",
              " (-1, True, 0.003),\n",
              " (6, False, 0.121)]"
            ]
          },
          "metadata": {},
          "execution_count": 41
        }
      ]
    },
    {
      "cell_type": "code",
      "source": [
        "#Starting to debug our test case 5 Fails i.e \n",
        "#This print out lets us know what is wrong with test case 4. i.e why it is falling out of range\n",
        "\n",
        "def locate_card(cards, query):\n",
        "    position = 0\n",
        "    \n",
        "    print('cards:', cards)\n",
        "    print('query:', query)\n",
        "    \n",
        "    while True:\n",
        "        print('position:', position)\n",
        "        \n",
        "        if cards[position] == query:\n",
        "            return position\n",
        "        \n",
        "        position += 1\n",
        "        if position == len(cards):\n",
        "            return -1"
      ],
      "metadata": {
        "id": "x2EmX8XaDJZi"
      },
      "execution_count": null,
      "outputs": []
    },
    {
      "cell_type": "code",
      "source": [
        "#we can see that the list below is empty and we are trying to access it \n",
        "\n",
        "cards5 = tests[5]['input']['cards']\n",
        "query5 = tests[5]['input']['query']\n",
        "\n",
        "locate_card(cards5, query5)"
      ],
      "metadata": {
        "colab": {
          "base_uri": "https://localhost:8080/"
        },
        "id": "1kVMSrUrFDAM",
        "outputId": "787f8100-7e0a-4dce-a750-bc4a16a6f695"
      },
      "execution_count": null,
      "outputs": [
        {
          "output_type": "stream",
          "name": "stdout",
          "text": [
            "cards: [8, 8, 6, 6, 6, 6, 6, 6, 3, 2, 3, 0, 0, 0]\n",
            "query: 6\n",
            "position: 0\n",
            "position: 1\n",
            "position: 2\n"
          ]
        },
        {
          "output_type": "execute_result",
          "data": {
            "text/plain": [
              "2"
            ]
          },
          "metadata": {},
          "execution_count": 46
        }
      ]
    },
    {
      "cell_type": "code",
      "source": [
        "#To start figuring out, the position has to be less than the position of cards \n",
        "#If empty, return -1\n",
        "\n",
        "def locate_card(cards, query):\n",
        "    position = 0\n",
        "    while position < len(cards):\n",
        "        if cards[position] == query:\n",
        "            return position\n",
        "        position += 1\n",
        "    return -1\n",
        "\n",
        "locate_card(cards5, query5)"
      ],
      "metadata": {
        "colab": {
          "base_uri": "https://localhost:8080/"
        },
        "id": "CNCLFMhrHrot",
        "outputId": "48ef5421-e1c0-4748-e97d-31e06a83dcb9"
      },
      "execution_count": null,
      "outputs": [
        {
          "output_type": "execute_result",
          "data": {
            "text/plain": [
              "2"
            ]
          },
          "metadata": {},
          "execution_count": 48
        }
      ]
    },
    {
      "cell_type": "code",
      "source": [
        "#Let us now reverify the code to match the test cases\n",
        "evaluate_test_cases(locate_card , tests)"
      ],
      "metadata": {
        "id": "12Cmb3NgIEUF",
        "colab": {
          "base_uri": "https://localhost:8080/"
        },
        "outputId": "04a61cce-a331-448e-c7fc-e9353cb611b9"
      },
      "execution_count": null,
      "outputs": [
        {
          "output_type": "stream",
          "name": "stdout",
          "text": [
            "\n",
            "\u001b[1mTEST CASE #0\u001b[0m\n",
            "\n",
            "Input:\n",
            "{'cards': [13, 11, 10, 7, 4, 3, 1, 0], 'query': 1}\n",
            "\n",
            "Expected Output:\n",
            "6\n",
            "\n",
            "\n",
            "Actual Output:\n",
            "6\n",
            "\n",
            "Execution Time:\n",
            "0.007 ms\n",
            "\n",
            "Test Result:\n",
            "\u001b[92mPASSED\u001b[0m\n",
            "\n",
            "\n",
            "\u001b[1mTEST CASE #1\u001b[0m\n",
            "\n",
            "Input:\n",
            "{'cards': [3, -1, -9, -127], 'query': -127}\n",
            "\n",
            "Expected Output:\n",
            "3\n",
            "\n",
            "\n",
            "Actual Output:\n",
            "3\n",
            "\n",
            "Execution Time:\n",
            "0.004 ms\n",
            "\n",
            "Test Result:\n",
            "\u001b[92mPASSED\u001b[0m\n",
            "\n",
            "\n",
            "\u001b[1mTEST CASE #2\u001b[0m\n",
            "\n",
            "Input:\n",
            "{'cards': [6], 'query': 6}\n",
            "\n",
            "Expected Output:\n",
            "0\n",
            "\n",
            "\n",
            "Actual Output:\n",
            "0\n",
            "\n",
            "Execution Time:\n",
            "0.003 ms\n",
            "\n",
            "Test Result:\n",
            "\u001b[92mPASSED\u001b[0m\n",
            "\n",
            "\n",
            "\u001b[1mTEST CASE #3\u001b[0m\n",
            "\n",
            "Input:\n",
            "{'cards': [9, 7, 6, 4, 3], 'query': 5}\n",
            "\n",
            "Expected Output:\n",
            "-1\n",
            "\n",
            "\n",
            "Actual Output:\n",
            "-1\n",
            "\n",
            "Execution Time:\n",
            "0.004 ms\n",
            "\n",
            "Test Result:\n",
            "\u001b[92mPASSED\u001b[0m\n",
            "\n",
            "\n",
            "\u001b[1mTEST CASE #4\u001b[0m\n",
            "\n",
            "Input:\n",
            "{'cards': [], 'query': 6}\n",
            "\n",
            "Expected Output:\n",
            "-1\n",
            "\n",
            "\n",
            "Actual Output:\n",
            "-1\n",
            "\n",
            "Execution Time:\n",
            "0.002 ms\n",
            "\n",
            "Test Result:\n",
            "\u001b[92mPASSED\u001b[0m\n",
            "\n",
            "\n",
            "\u001b[1mTEST CASE #5\u001b[0m\n",
            "\n",
            "Input:\n",
            "{'cards': [8, 8, 6, 6, 6, 6, 6, 6, 3, 2, 3, 0, 0, 0], 'query': 6}\n",
            "\n",
            "Expected Output:\n",
            "-1\n",
            "\n",
            "\n",
            "Actual Output:\n",
            "2\n",
            "\n",
            "Execution Time:\n",
            "0.003 ms\n",
            "\n",
            "Test Result:\n",
            "\u001b[91mFAILED\u001b[0m\n",
            "\n",
            "\n",
            "\u001b[1mSUMMARY\u001b[0m\n",
            "\n",
            "TOTAL: 6, \u001b[92mPASSED\u001b[0m: 5, \u001b[91mFAILED\u001b[0m: 1\n"
          ]
        },
        {
          "output_type": "execute_result",
          "data": {
            "text/plain": [
              "[(6, True, 0.007),\n",
              " (3, True, 0.004),\n",
              " (0, True, 0.003),\n",
              " (-1, True, 0.004),\n",
              " (-1, True, 0.002),\n",
              " (2, False, 0.003)]"
            ]
          },
          "metadata": {},
          "execution_count": 49
        }
      ]
    },
    {
      "cell_type": "code",
      "source": [
        "#Our solution is not very effective as we keep turning the cards one by one\n",
        "#we are required to turn as few cards as possible\n",
        "#we are using binary search now\n",
        "\n",
        "def locate_card(cards,query):\n",
        "  lo,hi = 0, len(cards) - 1\n",
        "\n",
        "  while lo <= hi:\n",
        "    mid = (lo + hi) //2\n",
        "    mid_number = cards[mid]\n",
        "    \n",
        "    print(\"lo:\" , lo , \"hi:\" , hi , \"mid:\" , mid, \"midnumber:\", mid_number)\n",
        "\n",
        "    if mid_number == query:\n",
        "      return mid\n",
        "    elif mid_number < query:\n",
        "      hi =  mid - 1\n",
        "    elif mid_number > query:\n",
        "      lo = mid + 1\n",
        "  return -1"
      ],
      "metadata": {
        "id": "gxVXyS_NJDaQ"
      },
      "execution_count": null,
      "outputs": []
    },
    {
      "cell_type": "code",
      "source": [
        "#evaluate test cases\n",
        "evaluate_test_cases(locate_card, tests)"
      ],
      "metadata": {
        "colab": {
          "base_uri": "https://localhost:8080/"
        },
        "id": "z6UjUGvkJUv4",
        "outputId": "d60833a7-a68f-44a9-cb0c-f4c64485f101"
      },
      "execution_count": null,
      "outputs": [
        {
          "output_type": "stream",
          "name": "stdout",
          "text": [
            "\n",
            "\u001b[1mTEST CASE #0\u001b[0m\n",
            "lo: 0 hi: 7 mid: 3 midnumber: 7\n",
            "lo: 4 hi: 7 mid: 5 midnumber: 3\n",
            "lo: 6 hi: 7 mid: 6 midnumber: 1\n",
            "\n",
            "Input:\n",
            "{'cards': [13, 11, 10, 7, 4, 3, 1, 0], 'query': 1}\n",
            "\n",
            "Expected Output:\n",
            "6\n",
            "\n",
            "\n",
            "Actual Output:\n",
            "6\n",
            "\n",
            "Execution Time:\n",
            "0.413 ms\n",
            "\n",
            "Test Result:\n",
            "\u001b[92mPASSED\u001b[0m\n",
            "\n",
            "\n",
            "\u001b[1mTEST CASE #1\u001b[0m\n",
            "lo: 0 hi: 3 mid: 1 midnumber: -1\n",
            "lo: 2 hi: 3 mid: 2 midnumber: -9\n",
            "lo: 3 hi: 3 mid: 3 midnumber: -127\n",
            "\n",
            "Input:\n",
            "{'cards': [3, -1, -9, -127], 'query': -127}\n",
            "\n",
            "Expected Output:\n",
            "3\n",
            "\n",
            "\n",
            "Actual Output:\n",
            "3\n",
            "\n",
            "Execution Time:\n",
            "0.378 ms\n",
            "\n",
            "Test Result:\n",
            "\u001b[92mPASSED\u001b[0m\n",
            "\n",
            "\n",
            "\u001b[1mTEST CASE #2\u001b[0m\n",
            "lo: 0 hi: 0 mid: 0 midnumber: 6\n",
            "\n",
            "Input:\n",
            "{'cards': [6], 'query': 6}\n",
            "\n",
            "Expected Output:\n",
            "0\n",
            "\n",
            "\n",
            "Actual Output:\n",
            "0\n",
            "\n",
            "Execution Time:\n",
            "0.659 ms\n",
            "\n",
            "Test Result:\n",
            "\u001b[92mPASSED\u001b[0m\n",
            "\n",
            "\n",
            "\u001b[1mTEST CASE #3\u001b[0m\n",
            "lo: 0 hi: 4 mid: 2 midnumber: 6\n",
            "lo: 3 hi: 4 mid: 3 midnumber: 4\n",
            "\n",
            "Input:\n",
            "{'cards': [9, 7, 6, 4, 3], 'query': 5}\n",
            "\n",
            "Expected Output:\n",
            "-1\n",
            "\n",
            "\n",
            "Actual Output:\n",
            "-1\n",
            "\n",
            "Execution Time:\n",
            "0.328 ms\n",
            "\n",
            "Test Result:\n",
            "\u001b[92mPASSED\u001b[0m\n",
            "\n",
            "\n",
            "\u001b[1mTEST CASE #4\u001b[0m\n",
            "\n",
            "Input:\n",
            "{'cards': [], 'query': 6}\n",
            "\n",
            "Expected Output:\n",
            "-1\n",
            "\n",
            "\n",
            "Actual Output:\n",
            "-1\n",
            "\n",
            "Execution Time:\n",
            "0.004 ms\n",
            "\n",
            "Test Result:\n",
            "\u001b[92mPASSED\u001b[0m\n",
            "\n",
            "\n",
            "\u001b[1mTEST CASE #5\u001b[0m\n",
            "lo: 0 hi: 13 mid: 6 midnumber: 6\n",
            "\n",
            "Input:\n",
            "{'cards': [8, 8, 6, 6, 6, 6, 6, 6, 3, 2, 3, 0, 0, 0], 'query': 6}\n",
            "\n",
            "Expected Output:\n",
            "-1\n",
            "\n",
            "\n",
            "Actual Output:\n",
            "6\n",
            "\n",
            "Execution Time:\n",
            "0.551 ms\n",
            "\n",
            "Test Result:\n",
            "\u001b[91mFAILED\u001b[0m\n",
            "\n",
            "\n",
            "\u001b[1mSUMMARY\u001b[0m\n",
            "\n",
            "TOTAL: 6, \u001b[92mPASSED\u001b[0m: 5, \u001b[91mFAILED\u001b[0m: 1\n"
          ]
        },
        {
          "output_type": "execute_result",
          "data": {
            "text/plain": [
              "[(6, True, 0.413),\n",
              " (3, True, 0.378),\n",
              " (0, True, 0.659),\n",
              " (-1, True, 0.328),\n",
              " (-1, True, 0.004),\n",
              " (6, False, 0.551)]"
            ]
          },
          "metadata": {},
          "execution_count": 51
        }
      ]
    },
    {
      "cell_type": "code",
      "source": [
        "#Locating why test case 5 failed\n",
        "evaluate_test_case(locate_card, tests[5])"
      ],
      "metadata": {
        "colab": {
          "base_uri": "https://localhost:8080/"
        },
        "id": "tnDqWaP6KUTA",
        "outputId": "a716f9ac-a623-47cf-f40c-2596475cc782"
      },
      "execution_count": null,
      "outputs": [
        {
          "output_type": "stream",
          "name": "stdout",
          "text": [
            "\n",
            "Input:\n",
            "{'cards': [8, 8, 6, 6, 6, 6, 6, 6, 3, 2, 3, 0, 0, 0], 'query': 6}\n",
            "\n",
            "Expected Output:\n",
            "-1\n",
            "\n",
            "lo: 0 hi: 13 mid: 6 midnumber: 6\n",
            "\n",
            "Actual Output:\n",
            "6\n",
            "\n",
            "Execution Time:\n",
            "0.132 ms\n",
            "\n",
            "Test Result:\n",
            "\u001b[91mFAILED\u001b[0m\n",
            "\n"
          ]
        },
        {
          "output_type": "execute_result",
          "data": {
            "text/plain": [
              "(6, False, 0.132)"
            ]
          },
          "metadata": {},
          "execution_count": 52
        }
      ]
    },
    {
      "cell_type": "code",
      "source": [
        "def test_location(cards, query, mid):\n",
        "    mid_number = cards[mid]\n",
        "    print(\"mid:\", mid, \", mid_number:\", mid_number)\n",
        "    if mid_number == query:\n",
        "        if mid-1 >= 0 and cards[mid-1] == query:\n",
        "            return 'left'\n",
        "        else:\n",
        "            return 'found'\n",
        "    elif mid_number < query:\n",
        "        return 'left'\n",
        "    else:\n",
        "        return 'right'\n",
        "\n",
        "def locate_card(cards, query):\n",
        "    lo, hi = 0, len(cards) - 1\n",
        "    \n",
        "    while lo <= hi:\n",
        "        print(\"lo:\", lo, \", hi:\", hi)\n",
        "        mid = (lo + hi) // 2\n",
        "        result = test_location(cards, query, mid)\n",
        "        \n",
        "        if result == 'found':\n",
        "            return mid\n",
        "        elif result == 'left':\n",
        "            hi = mid - 1\n",
        "        elif result == 'right':\n",
        "            lo = mid + 1\n",
        "    return -1"
      ],
      "metadata": {
        "id": "0bm90kepMmn3"
      },
      "execution_count": null,
      "outputs": []
    },
    {
      "cell_type": "code",
      "source": [
        "evaluate_test_case(locate_card,tests[5])"
      ],
      "metadata": {
        "colab": {
          "base_uri": "https://localhost:8080/"
        },
        "id": "YlEl-vdCPruR",
        "outputId": "4a4d812a-45ae-4072-a435-e98f17d5c3f6"
      },
      "execution_count": null,
      "outputs": [
        {
          "output_type": "stream",
          "name": "stdout",
          "text": [
            "\n",
            "Input:\n",
            "{'cards': [8, 8, 6, 6, 6, 6, 6, 6, 3, 2, 3, 0, 0, 0], 'query': 6}\n",
            "\n",
            "Expected Output:\n",
            "-1\n",
            "\n",
            "lo: 0 , hi: 13\n",
            "mid: 6 , mid_number: 6\n",
            "lo: 0 , hi: 5\n",
            "mid: 2 , mid_number: 6\n",
            "\n",
            "Actual Output:\n",
            "2\n",
            "\n",
            "Execution Time:\n",
            "0.265 ms\n",
            "\n",
            "Test Result:\n",
            "\u001b[91mFAILED\u001b[0m\n",
            "\n"
          ]
        },
        {
          "output_type": "execute_result",
          "data": {
            "text/plain": [
              "(2, False, 0.265)"
            ]
          },
          "metadata": {},
          "execution_count": 62
        }
      ]
    },
    {
      "cell_type": "code",
      "source": [
        "#9 analyzing the algorithm complexity \n",
        "#This is locate card linear\n",
        "def locate_card_linear(cards, query):\n",
        "    position = 0\n",
        "    while position < len(cards):\n",
        "        if cards[position] == query:\n",
        "            return position\n",
        "        position += 1\n",
        "    return -1\n"
      ],
      "metadata": {
        "id": "vLBmovg4QIrq"
      },
      "execution_count": null,
      "outputs": []
    },
    {
      "cell_type": "code",
      "source": [
        "#Large input for the case \n",
        "large_test = {\n",
        "    'input': {\n",
        "        'cards': list(range(10000000, 0, -1)),\n",
        "        'query': 2\n",
        "    },\n",
        "    'output': 9999998\n",
        "    \n",
        "} "
      ],
      "metadata": {
        "id": "P__xaw5ORbMb"
      },
      "execution_count": null,
      "outputs": []
    },
    {
      "cell_type": "code",
      "source": [
        "#The test case passing plus the time taken\n",
        "\n",
        "result, passed, runtime = evaluate_test_case(locate_card_linear, large_test, display=False)\n",
        "\n",
        "print(\"Result: {}\\nPassed: {}\\nExecution Time: {} ms\".format(result, passed, runtime))"
      ],
      "metadata": {
        "colab": {
          "base_uri": "https://localhost:8080/"
        },
        "id": "lHPJXIQSRgwN",
        "outputId": "3d1ab4ac-acbf-488c-8c9e-08cc3c67b72e"
      },
      "execution_count": null,
      "outputs": [
        {
          "output_type": "stream",
          "name": "stdout",
          "text": [
            "Result: 9999998\n",
            "Passed: True\n",
            "Execution Time: 1712.564 ms\n"
          ]
        }
      ]
    },
    {
      "cell_type": "code",
      "source": [
        "#The test case for binary and the final solution test\n",
        "#This is locate card using binary\n",
        "def locate_card(cards, query): \n",
        "    def condition(mid):\n",
        "        if cards[mid] == query:\n",
        "            if mid > 0 and cards[mid-1] == query:\n",
        "                return 'left'\n",
        "            else:\n",
        "                return 'found'\n",
        "        elif cards[mid] < query:\n",
        "            return 'left'\n",
        "        else:\n",
        "            return 'right'\n",
        "    \n",
        "    return binary_search(0, len(cards) - 1, condition)"
      ],
      "metadata": {
        "id": "t75K5x4WRux5"
      },
      "execution_count": null,
      "outputs": []
    },
    {
      "cell_type": "code",
      "source": [
        "#Speed for binary\n",
        "\n",
        "result, passed, runtime = evaluate_test_case(locate_card, large_test, display=False)\n",
        "\n",
        "print(\"Result: {}\\nPassed: {}\\nExecution Time: {} ms\".format(result, passed, runtime))"
      ],
      "metadata": {
        "colab": {
          "base_uri": "https://localhost:8080/"
        },
        "id": "hQBOi-rYSm2n",
        "outputId": "dc00bc3a-4dac-4483-ad1e-fe55b8e8bace"
      },
      "execution_count": null,
      "outputs": [
        {
          "output_type": "stream",
          "name": "stdout",
          "text": [
            "Result: 9999998\n",
            "Passed: True\n",
            "Execution Time: 0.03 ms\n"
          ]
        }
      ]
    }
  ]
}