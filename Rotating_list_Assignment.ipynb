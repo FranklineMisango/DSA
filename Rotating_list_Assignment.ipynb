{
  "nbformat": 4,
  "nbformat_minor": 0,
  "metadata": {
    "colab": {
      "provenance": [],
      "authorship_tag": "ABX9TyOAAk8ZMsFl9MUw5vK5vNLP",
      "include_colab_link": true
    },
    "kernelspec": {
      "name": "python3",
      "display_name": "Python 3"
    },
    "language_info": {
      "name": "python"
    }
  },
  "cells": [
    {
      "cell_type": "markdown",
      "metadata": {
        "id": "view-in-github",
        "colab_type": "text"
      },
      "source": [
        "<a href=\"https://colab.research.google.com/github/FranklineMisango/FCC_Data_Structures_-_Algorithms/blob/main/Rotating_list_Assignment.ipynb\" target=\"_parent\"><img src=\"https://colab.research.google.com/assets/colab-badge.svg\" alt=\"Open In Colab\"/></a>"
      ]
    },
    {
      "cell_type": "markdown",
      "source": [
        "# Assignment 1- Binary search practice\n",
        "This assignment is a part of the course \"Data Structures and Algorithms in Python\".\n",
        "\n",
        "In this assignment, you'll get to practice some of the concepts and skills covered in the following notebooks:\n",
        "\n",
        "Binary Search and Complexity Analysis\n",
        "Solving Programming Problems Systematically\n",
        "As you go through this notebook, you will find a ??? in certain places. To complete this assignment, you must replace all the ??? with appropriate values, expressions or statements to ensure that the notebook runs properly end-to-end.\n",
        "\n",
        "Some things to keep in mind:\n",
        "\n",
        "Make sure to run all the code cells, otherwise you may get errors like NameError for undefined variables.\n",
        "Do not change variable names, delete cells or disturb other existing code. It may cause problems during evaluation.\n",
        "In some cases, you may need to add some code cells or new statements before or after the line of code containing the ???.\n",
        "Since you'll be using a temporary online service for code execution, save your work by running jovian.commit at regular intervals.\n",
        "Questions marked (Optional) will not be considered for evaluation, and can be skipped. They are for your learning.\n",
        "You can make submissions on this page: https://jovian.ai/learn/data-structures-and-algorithms-in-python/assignment/assignment-1-binary-search-practice\n",
        "\n",
        "If you are stuck, you can ask for help on the community forum: https://jovian.ai/forum/c/data-structures-and-algorithms-in-python/assignment-1/87 . You can get help with errors or ask for hints, but please don't ask for OR share the full working answer code on the forum.\n",
        "\n",
        "How to run the code and save your work\n",
        "The recommended way to run this notebook is to click the \"Run\" button at the top of this page, and select \"Run on Binder\". This will run the notebook on mybinder.org, a free online service for running Jupyter notebooks.\n",
        "\n",
        "This tutorial is an executable Jupyter notebook. You can run this tutorial and experiment with the code examples in a couple of ways: using free online resources (recommended) or on your computer.\n",
        "\n",
        "Option 1: Running using free online resources (1-click, recommended)\n",
        "The easiest way to start executing the code is to click the Run button at the top of this page and select Run on Binder. You can also select \"Run on Colab\" or \"Run on Kaggle\", but you'll need to create an account on Google Colab or Kaggle to use these platforms.\n",
        "\n",
        "Option 2: Running on your computer locally\n",
        "To run the code on your computer locally, you'll need to set up Python, download the notebook and install the required libraries. We recommend using the Conda distribution of Python. Click the Run button at the top of this page, select the Run Locally option, and follow the instructions.\n"
      ],
      "metadata": {
        "id": "lWhyzrZzVHhJ"
      }
    },
    {
      "cell_type": "markdown",
      "source": [
        "Solution blueprint\n",
        "\n",
        "1.State the problem clearly. Identify the input & output formats.\n",
        "While this problem is stated clearly enough, it's always useful to try and express in your own words, in a way that makes it most clear for you. It's perfectly OK if your description overlaps with the original problem statement to a large extent.\n",
        "\n",
        "\n",
        "Q: Express the problem in your own words below (to edit this cell, double click on it).\n",
        "\n",
        "Problem\n",
        "\n",
        "number of rotations to make the array sorted again or in other words, index of minimum element\n",
        "\n",
        "\n",
        "Q: The function you write will take one input called nums. What does it represent? Give an example.\n",
        "\n",
        "Input\n",
        "\n",
        "nums: [3,4,5,0,1,2], represents the input array\n",
        "\n",
        "Q: The function you write will return a single output called rotations. What does it represent? Give an example.\n",
        "\n",
        "Output\n",
        "\n",
        "rotations: 3, number of times array was rotated\n",
        "\n",
        "Based on the above, we can now create a signature of our function:\n"
      ],
      "metadata": {
        "id": "-9xk_RWQYAAj"
      }
    },
    {
      "cell_type": "code",
      "execution_count": 1,
      "metadata": {
        "id": "P0cFAd40VF_M"
      },
      "outputs": [],
      "source": [
        "#Blue print of my solution\n",
        "def count_rotation(nums):\n",
        "  pass"
      ]
    },
    {
      "cell_type": "markdown",
      "source": [
        "2.Come up with some example inputs & outputs. Try to cover all edge cases.\n",
        "Our function should be able to handle any set of valid inputs we pass into it. Here's a list of some possible variations we might encounter:\n",
        "\n",
        "1. A list of size 10 rotated 3 times.\n",
        "2. A list of size 8 rotated 5 times.\n",
        "3. A list that wasn't rotated at all.\n",
        "4. A list that was rotated just once.\n",
        "5. A list that was rotated n-1 times, where n is the size of the list.\n",
        "6. A list that was rotated n times (do you get back the original list here?)\n",
        "An empty list.\n",
        "7. A list containing just one element.\n",
        "(can you think of any more?)\n",
        "\n",
        "\n",
        "We'll express our test cases as dictionaries, to test them easily. Each dictionary will contain 2 keys: input (a dictionary itself containing one key for each argument to the function and output (the expected result from the function). Here's an example."
      ],
      "metadata": {
        "id": "eSvFrJCsYyIF"
      }
    },
    {
      "cell_type": "code",
      "source": [
        "test = {\n",
        "    'input': {\n",
        "        'nums': [19, 25, 29, 3, 5, 6, 7, 9, 11, 14]\n",
        "    },\n",
        "    'output': 3\n",
        "}"
      ],
      "metadata": {
        "id": "GeqsxVBqZKQr"
      },
      "execution_count": 28,
      "outputs": []
    },
    {
      "cell_type": "code",
      "source": [
        "#Function test case\n",
        "#Run the test cases against the blueprint to get None and False\n",
        "\n",
        "nums0 = test['input']['nums']\n",
        "output0 = test['output']\n",
        "result0 = count_rotation(nums0)\n",
        "\n",
        "result0, result0 == output0"
      ],
      "metadata": {
        "id": "RPnMMUSfa9ht"
      },
      "execution_count": null,
      "outputs": []
    },
    {
      "cell_type": "code",
      "source": [
        "!pip install jovian --upgrade --quiet\n"
      ],
      "metadata": {
        "id": "OwL8gdiwbaxs"
      },
      "execution_count": 30,
      "outputs": []
    },
    {
      "cell_type": "code",
      "source": [
        "#Importing the test cases already pre built in Javan (io)\n",
        "from jovian.pythondsa import evaluate_test_case #For one test case evaluation "
      ],
      "metadata": {
        "id": "LysIXgPvb4Uk"
      },
      "execution_count": 31,
      "outputs": []
    },
    {
      "cell_type": "code",
      "source": [
        "#running the test cases\n",
        "evaluate_test_case(count_rotation,test)"
      ],
      "metadata": {
        "colab": {
          "base_uri": "https://localhost:8080/"
        },
        "id": "-lfWfIUfcAMd",
        "outputId": "28376fab-52a1-46b5-d125-77935fe135b6"
      },
      "execution_count": 32,
      "outputs": [
        {
          "output_type": "stream",
          "name": "stdout",
          "text": [
            "\n",
            "Input:\n",
            "{'nums': [19, 25, 29, 3, 5, 6, 7, 9, 11, 14]}\n",
            "\n",
            "Expected Output:\n",
            "3\n",
            "\n",
            "\n",
            "Actual Output:\n",
            "None\n",
            "\n",
            "Execution Time:\n",
            "0.003 ms\n",
            "\n",
            "Test Result:\n",
            "\u001b[91mFAILED\u001b[0m\n",
            "\n"
          ]
        },
        {
          "output_type": "execute_result",
          "data": {
            "text/plain": [
              "(None, False, 0.003)"
            ]
          },
          "metadata": {},
          "execution_count": 32
        }
      ]
    },
    {
      "cell_type": "code",
      "source": [
        "#Creating the test cases according to Q2\n",
        "# A list of size 8 rotated 5 times.\n",
        "\n",
        "tests = []\n",
        "tests.append(test)"
      ],
      "metadata": {
        "id": "YllwL8ancepm"
      },
      "execution_count": 33,
      "outputs": []
    },
    {
      "cell_type": "code",
      "source": [
        "# A list of size 8 rotated 5 times.\n",
        "\n",
        "tests.append({\n",
        "    'input': {\n",
        "        'nums': [4,5,6,7,8,1,2,3]\n",
        "    },\n",
        "    'output': 5\n",
        "})"
      ],
      "metadata": {
        "id": "eIymAK5OdHh3"
      },
      "execution_count": 34,
      "outputs": []
    },
    {
      "cell_type": "code",
      "source": [
        "# A list that wasn't rotated at all.\n",
        "tests.append({\n",
        "    'input': {\n",
        "        'nums': [1,2,3,4,5]\n",
        "    },\n",
        "    'output': 0\n",
        "})"
      ],
      "metadata": {
        "id": "J1b2kwz4dk_d"
      },
      "execution_count": 35,
      "outputs": []
    },
    {
      "cell_type": "code",
      "source": [
        "# A list that was rotated just once.\n",
        "tests.append({\n",
        "    'input': {\n",
        "        'nums': [5,1,2,3,4]\n",
        "    },\n",
        "    'output': 1\n",
        "})"
      ],
      "metadata": {
        "id": "WZLExlKndm3r"
      },
      "execution_count": 36,
      "outputs": []
    },
    {
      "cell_type": "code",
      "source": [
        "# A list that was rotated n-1 times, where n is the size of the list.\n",
        "tests.append({\n",
        "    'input': {\n",
        "        'nums': [2,3,4,1]\n",
        "    },\n",
        "    'output': 3\n",
        "})"
      ],
      "metadata": {
        "id": "WRTOnqoMdoox"
      },
      "execution_count": 37,
      "outputs": []
    },
    {
      "cell_type": "code",
      "source": [
        "# A list that was rotated n times, where n is the size of the list\n",
        "tests.append({\n",
        "    'input': {\n",
        "        'nums': [1,2,3]\n",
        "    },\n",
        "    'output': 0\n",
        "})"
      ],
      "metadata": {
        "id": "pgls9S8qeQLF"
      },
      "execution_count": 38,
      "outputs": []
    },
    {
      "cell_type": "code",
      "source": [
        "# An empty list.\n",
        "tests.append({\n",
        "    'input': {\n",
        "        'nums': []\n",
        "    },\n",
        "    'output': 0\n",
        "})"
      ],
      "metadata": {
        "id": "o4mRWKHueSEk"
      },
      "execution_count": 20,
      "outputs": []
    },
    {
      "cell_type": "code",
      "source": [
        "# A list containing just one element.\n",
        "tests.append({\n",
        "    'input': {\n",
        "        'nums': [1]\n",
        "    },\n",
        "    'output': 0\n",
        "})"
      ],
      "metadata": {
        "id": "oMGTdHdAedCf"
      },
      "execution_count": 39,
      "outputs": []
    },
    {
      "cell_type": "markdown",
      "source": [
        "Here, You can add more test cases depending on the need\n"
      ],
      "metadata": {
        "id": "jcBWyzhAekkE"
      }
    },
    {
      "cell_type": "code",
      "source": [
        "from jovian.pythondsa import evaluate_test_cases #For more than one test case evaluation \n",
        "evaluate_test_cases(count_rotation, tests) #All should fail because we have no logic in the question yet"
      ],
      "metadata": {
        "id": "1RZ3wZqleppa"
      },
      "execution_count": null,
      "outputs": []
    },
    {
      "cell_type": "markdown",
      "source": [
        "3.Come up with a correct solution for the problem. State it in plain English.\n",
        "Our first goal should always be to come up with a correct solution to the problem, which may not necessarily be the most efficient solution. Try to think of a solution before you read further.\n",
        "\n",
        "**Coming up with the correct solution is quite easy, and it's based on this insight: If a list of sorted numbers is rotated k times, then the smallest number in the list ends up at position k (counting from 0)**.\n",
        "\n",
        "**Further, it is the only number in the list which is smaller than the number before it.** **Thus, we simply need to check for each number in the list whether it is smaller than the number that comes before it (if there is a number before it). Then, our answer i.e. the number of rotations is simply the position of this number is . If we cannot find such a number, then the list wasn't rotated at all.**\n",
        "\n",
        "Example: In the list [19, 25, 29, 3, 5, 6, 7, 9, 11, 14], the number 3 is the only number smaller than its predecessor. It occurs at the position 4 (counting from 0), hence the array was rotated 4 times.\n",
        "\n",
        "We can use the linear search algorithm as a first attempt to solve this problem i.e. we can perform the check for every position one by one.\n",
        "\n",
        "1. We can create a variable position with value 0\n",
        "2. Look at the number at a given position\n",
        "3. If the number is smaller than the predecessor, return its position\n",
        "4. Otherwise, incremement its position and repeat till we exhaust all the numbers"
      ],
      "metadata": {
        "id": "28BDyU-3fFv3"
      }
    },
    {
      "cell_type": "code",
      "source": [
        "def count_rotation_linear(nums):\n",
        "  position = 0 #Initial value of the position\n",
        "\n",
        "  while position < len(nums):\n",
        "    if position > 0 and nums[position] < nums[position - 1]: #success criteria, the number should be in any other index but more than 0, and less than its predecessor\n",
        "      return position #The position\n",
        "\n",
        "    #move to the next position\n",
        "    position += 1\n",
        "\n",
        "  return 0 #if none of the position passed i.e the list was not rotated"
      ],
      "metadata": {
        "id": "DEleAacaf495"
      },
      "execution_count": 41,
      "outputs": []
    },
    {
      "cell_type": "code",
      "source": [
        "#Testing our linear search algorithm with one test case , The case passes implying this is one of the correct solutions\n",
        "linear_search_result = evaluate_test_case(count_rotation_linear , test)"
      ],
      "metadata": {
        "colab": {
          "base_uri": "https://localhost:8080/"
        },
        "id": "bUp2kUhkjmlM",
        "outputId": "882b4f89-c09c-4905-cf43-3d75b2438344"
      },
      "execution_count": 43,
      "outputs": [
        {
          "output_type": "stream",
          "name": "stdout",
          "text": [
            "\n",
            "Input:\n",
            "{'nums': [19, 25, 29, 3, 5, 6, 7, 9, 11, 14]}\n",
            "\n",
            "Expected Output:\n",
            "3\n",
            "\n",
            "\n",
            "Actual Output:\n",
            "3\n",
            "\n",
            "Execution Time:\n",
            "0.008 ms\n",
            "\n",
            "Test Result:\n",
            "\u001b[92mPASSED\u001b[0m\n",
            "\n"
          ]
        }
      ]
    },
    {
      "cell_type": "code",
      "source": [
        "#Testing all the test cases \n",
        "#All pass\n",
        "linear_search_result = evaluate_test_cases(count_rotation_linear, tests)"
      ],
      "metadata": {
        "colab": {
          "base_uri": "https://localhost:8080/"
        },
        "id": "X84ysxiZlEb_",
        "outputId": "40e51b97-4cad-474c-f56a-ba268eb8212a"
      },
      "execution_count": 45,
      "outputs": [
        {
          "output_type": "stream",
          "name": "stdout",
          "text": [
            "\n",
            "\u001b[1mTEST CASE #0\u001b[0m\n",
            "\n",
            "Input:\n",
            "{'nums': [19, 25, 29, 3, 5, 6, 7, 9, 11, 14]}\n",
            "\n",
            "Expected Output:\n",
            "3\n",
            "\n",
            "\n",
            "Actual Output:\n",
            "3\n",
            "\n",
            "Execution Time:\n",
            "0.008 ms\n",
            "\n",
            "Test Result:\n",
            "\u001b[92mPASSED\u001b[0m\n",
            "\n",
            "\n",
            "\u001b[1mTEST CASE #1\u001b[0m\n",
            "\n",
            "Input:\n",
            "{'nums': [4, 5, 6, 7, 8, 1, 2, 3]}\n",
            "\n",
            "Expected Output:\n",
            "5\n",
            "\n",
            "\n",
            "Actual Output:\n",
            "5\n",
            "\n",
            "Execution Time:\n",
            "0.009 ms\n",
            "\n",
            "Test Result:\n",
            "\u001b[92mPASSED\u001b[0m\n",
            "\n",
            "\n",
            "\u001b[1mTEST CASE #2\u001b[0m\n",
            "\n",
            "Input:\n",
            "{'nums': [1, 2, 3, 4, 5]}\n",
            "\n",
            "Expected Output:\n",
            "0\n",
            "\n",
            "\n",
            "Actual Output:\n",
            "0\n",
            "\n",
            "Execution Time:\n",
            "0.006 ms\n",
            "\n",
            "Test Result:\n",
            "\u001b[92mPASSED\u001b[0m\n",
            "\n",
            "\n",
            "\u001b[1mTEST CASE #3\u001b[0m\n",
            "\n",
            "Input:\n",
            "{'nums': [5, 1, 2, 3, 4]}\n",
            "\n",
            "Expected Output:\n",
            "1\n",
            "\n",
            "\n",
            "Actual Output:\n",
            "1\n",
            "\n",
            "Execution Time:\n",
            "0.003 ms\n",
            "\n",
            "Test Result:\n",
            "\u001b[92mPASSED\u001b[0m\n",
            "\n",
            "\n",
            "\u001b[1mTEST CASE #4\u001b[0m\n",
            "\n",
            "Input:\n",
            "{'nums': [2, 3, 4, 1]}\n",
            "\n",
            "Expected Output:\n",
            "3\n",
            "\n",
            "\n",
            "Actual Output:\n",
            "3\n",
            "\n",
            "Execution Time:\n",
            "0.005 ms\n",
            "\n",
            "Test Result:\n",
            "\u001b[92mPASSED\u001b[0m\n",
            "\n",
            "\n",
            "\u001b[1mTEST CASE #5\u001b[0m\n",
            "\n",
            "Input:\n",
            "{'nums': [1, 2, 3]}\n",
            "\n",
            "Expected Output:\n",
            "0\n",
            "\n",
            "\n",
            "Actual Output:\n",
            "0\n",
            "\n",
            "Execution Time:\n",
            "0.003 ms\n",
            "\n",
            "Test Result:\n",
            "\u001b[92mPASSED\u001b[0m\n",
            "\n",
            "\n",
            "\u001b[1mTEST CASE #6\u001b[0m\n",
            "\n",
            "Input:\n",
            "{'nums': [1]}\n",
            "\n",
            "Expected Output:\n",
            "0\n",
            "\n",
            "\n",
            "Actual Output:\n",
            "0\n",
            "\n",
            "Execution Time:\n",
            "0.002 ms\n",
            "\n",
            "Test Result:\n",
            "\u001b[92mPASSED\u001b[0m\n",
            "\n",
            "\n",
            "\u001b[1mSUMMARY\u001b[0m\n",
            "\n",
            "TOTAL: 7, \u001b[92mPASSED\u001b[0m: 7, \u001b[91mFAILED\u001b[0m: 0\n"
          ]
        }
      ]
    },
    {
      "cell_type": "markdown",
      "source": [
        "#5 Analyzing the Time Complexity\n",
        "#Q: What is the worst-case complexity (running time) of the algorithm expressed in the Big O Notation? Assume that the size of the list is N (uppercase).\n",
        "linear_search_complexity = \"O(N)\"\n"
      ],
      "metadata": {
        "id": "srrdbenImBiP"
      }
    },
    {
      "cell_type": "markdown",
      "source": [
        "6.Apply the right technique to overcome the inefficiency. Repeat steps 3 to 6.\n",
        "As you might have guessed, we can apply **Binary Search** to solve this problem. **The key question we need to answer in binary search is: Given the middle element, how to decide if it is the answer (smallest number), or whether the answer lies to the left or right of it.**\n",
        "\n",
        "If the middle element is smaller than its predecessor, then it is the answer. However, if it isn't, this check is not sufficient to determine whether the answer lies to the left or the right of it. Consider the following examples.\n",
        "\n",
        "[7, 8, 1, 3, 4, 5, 6] (answer lies to the left of the middle element)\n",
        "\n",
        "[1, 2, 3, 4, 5, -1, 0] (answer lies to the right of the middle element)\n",
        "\n",
        "Here's a check that will help us determine if the answer lies to the left or the right: If the middle element of the list is smaller than the last element of the range, then the answer lies to the right of it. Otherwise, the answer lies to the left.\n",
        "\n",
        "Do you see why this strategy works?\n",
        "\n",
        "7. Come up with a correct solution for the problem. State it in plain English.\n",
        "Before we implement the solution, it's useful to describe it in a way that makes most sense to you. In a coding interview, you will almost certainly be asked to describe your approach before you start writing code.\n",
        "\n",
        "(Optional): Describe the binary search solution explained above problem in your own words.\n",
        "\n",
        "1. Define a lo, hi and mid positions\n",
        "2. Check whether the mid position is smaller than predecessor, if so, that is answer, if not, the solution lies to the right\n",
        "3. Return the position"
      ],
      "metadata": {
        "id": "46iAI4zNnfAN"
      }
    },
    {
      "cell_type": "code",
      "source": [
        "def count_rotations_binary(nums):\n",
        "  #if nums len 0 or 1\n",
        "  if len(nums)<=1:\n",
        "    return 0\n",
        "  #lo pointer and hi pointer\n",
        "  lo = 0\n",
        "  hi = len(nums)-1\n",
        "  #if no rotation\n",
        "  if nums[hi]>nums[lo]:\n",
        "    return 0\n",
        "  #if nums rotated n-1 times\n",
        "  if nums[hi]<nums[hi-1]:\n",
        "      return hi\n",
        "  #if nums rotated 1 time\n",
        "  if nums[lo+1]<nums[lo]:\n",
        "    return 1\n",
        "\n",
        "  while lo<=hi:\n",
        "    mid = (int)(lo + (hi-lo)/2) #calc mid\n",
        "    #if next to mid is ans\n",
        "    if nums[mid]>nums[mid+1]:\n",
        "      return mid+2\n",
        "      #if mid is ans\n",
        "    if nums[mid]<nums[mid-1]:\n",
        "      return mid+1\n",
        "      #adjust lo pointer\n",
        "    if nums[mid]>nums[lo]:\n",
        "      lo = mid+1\n",
        "    #adjust hi pointer\n",
        "    else:\n",
        "      hi = mid-1\n",
        "  return 0"
      ],
      "metadata": {
        "id": "3zoR1gRboSfz"
      },
      "execution_count": 54,
      "outputs": []
    },
    {
      "cell_type": "code",
      "source": [
        "test"
      ],
      "metadata": {
        "colab": {
          "base_uri": "https://localhost:8080/"
        },
        "id": "UZKkKbISqjA6",
        "outputId": "760b49dd-d76e-4fbe-faf9-3e7173bebe14"
      },
      "execution_count": 49,
      "outputs": [
        {
          "output_type": "execute_result",
          "data": {
            "text/plain": [
              "{'input': {'nums': [19, 25, 29, 3, 5, 6, 7, 9, 11, 14]}, 'output': 3}"
            ]
          },
          "metadata": {},
          "execution_count": 49
        }
      ]
    },
    {
      "cell_type": "code",
      "source": [
        "evaluate_test_case(count_rotation_binary,test)"
      ],
      "metadata": {
        "colab": {
          "base_uri": "https://localhost:8080/"
        },
        "id": "FOGoBwqEquMw",
        "outputId": "05fcf87d-03e2-49c2-c46e-15ce6e479cbc"
      },
      "execution_count": 55,
      "outputs": [
        {
          "output_type": "stream",
          "name": "stdout",
          "text": [
            "\n",
            "Input:\n",
            "{'nums': [19, 25, 29, 3, 5, 6, 7, 9, 11, 14]}\n",
            "\n",
            "Expected Output:\n",
            "3\n",
            "\n",
            "\n",
            "Actual Output:\n",
            "0\n",
            "\n",
            "Execution Time:\n",
            "0.008 ms\n",
            "\n",
            "Test Result:\n",
            "\u001b[91mFAILED\u001b[0m\n",
            "\n"
          ]
        },
        {
          "output_type": "execute_result",
          "data": {
            "text/plain": [
              "(0, False, 0.008)"
            ]
          },
          "metadata": {},
          "execution_count": 55
        }
      ]
    }
  ]
}