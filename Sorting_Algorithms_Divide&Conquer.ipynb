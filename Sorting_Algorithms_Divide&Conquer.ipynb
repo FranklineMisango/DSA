{
  "nbformat": 4,
  "nbformat_minor": 0,
  "metadata": {
    "colab": {
      "provenance": [],
      "authorship_tag": "ABX9TyNJjy4GoUTwY5+eiQlqXG1R",
      "include_colab_link": true
    },
    "kernelspec": {
      "name": "python3",
      "display_name": "Python 3"
    },
    "language_info": {
      "name": "python"
    }
  },
  "cells": [
    {
      "cell_type": "markdown",
      "metadata": {
        "id": "view-in-github",
        "colab_type": "text"
      },
      "source": [
        "<a href=\"https://colab.research.google.com/github/FranklineMisango/Data_Structures_-_Algorithms_Python/blob/main/Sorting_Algorithms_Divide%26Conquer.ipynb\" target=\"_parent\"><img src=\"https://colab.research.google.com/assets/colab-badge.svg\" alt=\"Open In Colab\"/></a>"
      ]
    },
    {
      "cell_type": "markdown",
      "source": [
        "## Problem \n",
        "\n",
        "\n",
        "In this notebook, we'll focus on solving the following problem:\n",
        "\n",
        "> **QUESTION 1**: You're working on a new feature on Jovian called \"Top Notebooks of the Week\". Write a function to sort a list of notebooks in decreasing order of likes. Keep in mind that up to millions of notebooks  can be created every week, so your function needs to be as efficient as possible.\n",
        "\n",
        "\n",
        "The problem of sorting a list of objects comes up over and over in computer science and software development, and it's important to understand common approaches for sorting, and the trade-offs they offer. Before we solve the above problem, we'll solve a simplified version of the problem:\n",
        "\n",
        "> **QUESTION 2**: Write a program to sort a list of numbers.\n",
        "\n",
        "\n",
        "\"Sorting\" usually refers to \"sorting in ascending order\", unless specified otherwise."
      ],
      "metadata": {
        "id": "43D_cWbIu7Un"
      }
    },
    {
      "cell_type": "markdown",
      "source": [
        "## The Method\n",
        "\n",
        "\n",
        "Here's a systematic strategy we'll apply for solving problems:\n",
        "\n",
        "1. State the problem clearly. Identify the input & output formats.\n",
        "2. Come up with some example inputs & outputs. Try to cover all edge cases.\n",
        "3. Come up with a correct solution for the problem. State it in plain English.\n",
        "4. Implement the solution and test it using example inputs. Fix bugs, if any.\n",
        "5. Analyze the algorithm's complexity and identify inefficiencies, if any.\n",
        "6. Apply the right technique to overcome the inefficiency. Repeat steps 3 to 6.\n",
        "\n"
      ],
      "metadata": {
        "id": "BObPSfKsuzvL"
      }
    },
    {
      "cell_type": "code",
      "execution_count": 1,
      "metadata": {
        "id": "mh_Ji5NauZ3B"
      },
      "outputs": [],
      "source": [
        "def sort(nums):\n",
        "  pass"
      ]
    },
    {
      "cell_type": "code",
      "source": [
        "#The test cases\n",
        "\n",
        "# List of numbers in random order\n",
        "test0 = {\n",
        "    'input': {\n",
        "        'nums': [4, 2, 6, 3, 4, 6, 2, 1]\n",
        "    },\n",
        "    'output': [1, 2, 2, 3, 4, 4, 6, 6]\n",
        "}\n",
        "\n",
        "\n",
        "# List of numbers in random order\n",
        "test1 = {\n",
        "    'input': {\n",
        "        'nums': [5, 2, 6, 1, 23, 7, -12, 12, -243, 0]\n",
        "    },\n",
        "    'output': [-243, -12, 0, 1, 2, 5, 6, 7, 12, 23]\n",
        "}\n",
        "\n",
        "# A list that's already sorted\n",
        "test2 = {\n",
        "    'input': {\n",
        "        'nums': [3, 5, 6, 8, 9, 10, 99]\n",
        "    },\n",
        "    'output': [3, 5, 6, 8, 9, 10, 99]\n",
        "}\n",
        "\n",
        "# A list that's sorted in descending order\n",
        "test3 = {\n",
        "    'input': {\n",
        "        'nums': [99, 10, 9, 8, 6, 5, 3]\n",
        "    },\n",
        "    'output': [3, 5, 6, 8, 9, 10, 99]\n",
        "}\n",
        "\n",
        "# A list containing repeating elements\n",
        "test4 = {\n",
        "    'input': {\n",
        "        'nums': [5, -12, 2, 6, 1, 23, 7, 7, -12, 6, 12, 1, -243, 1, 0]\n",
        "    },\n",
        "    'output': [-243, -12, -12, 0, 1, 1, 1, 2, 5, 6, 6, 7, 7, 12, 23]\n",
        "}\n",
        "\n",
        "# An empty list \n",
        "test5 = {\n",
        "    'input': {\n",
        "        'nums': []\n",
        "    },\n",
        "    'output': []\n",
        "}\n",
        "\n",
        "# A list containing just one element\n",
        "test6 = {\n",
        "    'input': {\n",
        "        'nums': [23]\n",
        "    },\n",
        "    'output': [23]\n",
        "}\n",
        "\n",
        "# A list containing one element repeated many times\n",
        "test7 = {\n",
        "    'input': {\n",
        "        'nums': [42, 42, 42, 42, 42, 42, 42]\n",
        "    },\n",
        "    'output': [42, 42, 42, 42, 42, 42, 42]\n",
        "}\n",
        "\n",
        "#To create the final test case (a really long list), we can start with a sorted list created using range and shuffle it to create the input.\n",
        "\n",
        "\n",
        "import random\n",
        "\n",
        "in_list = list(range(10000))\n",
        "out_list = list(range(10000))\n",
        "random.shuffle(in_list)\n",
        "\n",
        "test8 = {\n",
        "    'input': {\n",
        "        'nums': in_list\n",
        "    },\n",
        "    'output': out_list\n",
        "}"
      ],
      "metadata": {
        "id": "F9ZeCC4cxIIa"
      },
      "execution_count": 2,
      "outputs": []
    },
    {
      "cell_type": "markdown",
      "source": [
        "**Third step : Come up with a correct solution**\n",
        "\n",
        "It's easy to come up with a correct solution. Here's one:\n",
        "\n",
        "1. Iterate over the list of numbers, starting from the left\n",
        "2. Compare each number with the number that follows it\n",
        "3. If the number is greater than the one that follows it, swap the two elements\n",
        "4. Repeat steps 1 to 3 till the list is sorted.\n",
        "\n",
        "\n",
        "We need to repeat steps 1 to 3 at most n-1 times to ensure that the array is sorted. Can you explain why? Hint: After one iteration, the largest number in the list.\n",
        "\n",
        "This method is called bubble sort, as it causes smaller elements to bubble to the top and larger to sink to the bottom. Here's a visual representation of the process:"
      ],
      "metadata": {
        "id": "-1SQcQJJy1Y4"
      }
    },
    {
      "cell_type": "code",
      "source": [],
      "metadata": {
        "id": "AdR_mauSyx09"
      },
      "execution_count": null,
      "outputs": []
    }
  ]
}